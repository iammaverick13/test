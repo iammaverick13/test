{
  "nbformat": 4,
  "nbformat_minor": 0,
  "metadata": {
    "colab": {
      "name": "first_try.ipynb",
      "provenance": [],
      "collapsed_sections": [],
      "include_colab_link": true
    },
    "kernelspec": {
      "name": "python3",
      "display_name": "Python 3"
    }
  },
  "cells": [
    {
      "cell_type": "markdown",
      "metadata": {
        "id": "view-in-github",
        "colab_type": "text"
      },
      "source": [
        "<a href=\"https://colab.research.google.com/github/iammaverick13/test/blob/master/first_try.ipynb\" target=\"_parent\"><img src=\"https://colab.research.google.com/assets/colab-badge.svg\" alt=\"Open In Colab\"/></a>"
      ]
    },
    {
      "cell_type": "markdown",
      "metadata": {
        "id": "ZjD54ApNVZGc",
        "colab_type": "text"
      },
      "source": [
        "# **PERTAMA**\n",
        "ini adalah percobaan pertama menggunakan google colab\n",
        "\n",
        "```\n",
        "import random\n",
        "\n",
        "for i in range(10):\n",
        "  print(int(random.radom()*10))\n",
        "```\n",
        "[google](https://google.com)\n",
        "\n",
        "\n",
        "\n",
        "\n",
        "\n",
        "\n"
      ]
    },
    {
      "cell_type": "code",
      "metadata": {
        "id": "Wxcx_zrxUKSv",
        "colab_type": "code",
        "cellView": "both",
        "colab": {
          "base_uri": "https://localhost:8080/",
          "height": 225
        },
        "outputId": "ace29f91-aca7-4c4c-9e97-307c94d8d6f2"
      },
      "source": [
        "import random\n",
        "\n",
        "for i in range(10):\n",
        "  print(round(random.random()*i))\n",
        "print(\"--------\")\n",
        "\n",
        "for i in range(10):\n",
        "  print(int((random.random()*10)%10), end=' ')"
      ],
      "execution_count": null,
      "outputs": [
        {
          "output_type": "stream",
          "text": [
            "0\n",
            "0\n",
            "1\n",
            "0\n",
            "2\n",
            "2\n",
            "3\n",
            "2\n",
            "1\n",
            "3\n",
            "--------\n",
            "0 8 9 2 7 8 6 1 3 5 "
          ],
          "name": "stdout"
        }
      ]
    }
  ]
}